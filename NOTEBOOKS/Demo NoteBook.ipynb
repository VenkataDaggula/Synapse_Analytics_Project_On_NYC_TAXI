{
  "nbformat": 4,
  "nbformat_minor": 2,
  "metadata": {
    "language_info": {
      "name": "python"
    },
    "kernelspec": {
      "name": "synapse_pyspark",
      "display_name": "python"
    },
    "description": null,
    "save_output": true,
    "synapse_widget": {
      "version": "0.1",
      "state": {}
    }
  },
  "cells": [
    {
      "cell_type": "code",
      "execution_count": 1,
      "outputs": [
        {
          "output_type": "display_data",
          "data": {
            "application/vnd.livy.statement-meta+json": {
              "spark_pool": null,
              "statement_id": -1,
              "statement_ids": [],
              "state": "session_starting",
              "livy_statement_state": null,
              "spark_jobs": null,
              "session_id": null,
              "normalized_state": "session_starting",
              "queued_time": "2024-12-30T16:55:49.0224154Z",
              "session_start_time": "2024-12-30T16:55:49.0616438Z",
              "execution_start_time": null,
              "execution_finish_time": null,
              "parent_msg_id": "3b7fd95c-00d0-4752-8f15-89b1a243aaef"
            },
            "text/plain": "StatementMeta(, , -1, SessionStarting, , SessionStarting)"
          },
          "metadata": {}
        }
      ],
      "metadata": {},
      "source": [
        "x = 'Hello'"
      ]
    },
    {
      "cell_type": "code",
      "execution_count": null,
      "outputs": [
        {
          "output_type": "display_data",
          "data": {
            "application/vnd.livy.statement-meta+json": {
              "spark_pool": null,
              "statement_id": null,
              "statement_ids": null,
              "state": "waiting",
              "livy_statement_state": null,
              "spark_jobs": null,
              "session_id": null,
              "normalized_state": "waiting",
              "queued_time": "2024-12-30T16:55:49.0233476Z",
              "session_start_time": null,
              "execution_start_time": null,
              "execution_finish_time": null,
              "parent_msg_id": "9ecd5811-c9bc-4ab9-aa5e-a69fbb60cfd5"
            },
            "text/plain": "StatementMeta(, , , Waiting, , Waiting)"
          },
          "metadata": {}
        }
      ],
      "metadata": {
        "microsoft": {
          "language": "sparksql"
        },
        "jupyter": {
          "source_hidden": false,
          "outputs_hidden": false
        },
        "nteract": {
          "transient": {
            "deleting": false
          }
        }
      },
      "source": [
        "%%sql\r\n",
        "SELECT 1;"
      ]
    }
  ]
}